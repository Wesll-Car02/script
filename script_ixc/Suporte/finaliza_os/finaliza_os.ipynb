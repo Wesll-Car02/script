{
 "cells": [
  {
   "cell_type": "markdown",
   "metadata": {},
   "source": [
    "# Importando Bibliotecas"
   ]
  },
  {
   "cell_type": "code",
   "execution_count": 1,
   "metadata": {},
   "outputs": [
    {
     "name": "stdout",
     "output_type": "stream",
     "text": [
      "Bibliotecas importadas e variáveis de ambiente carregadas com sucesso.\n"
     ]
    }
   ],
   "source": [
    "import requests\n",
    "import base64\n",
    "import json\n",
    "import pandas as pd\n",
    "import os\n",
    "from dotenv import load_dotenv\n",
    "\n",
    "# Carregar variáveis de ambiente do arquivo .env\n",
    "load_dotenv()\n",
    "\n",
    "print(\"Bibliotecas importadas e variáveis de ambiente carregadas com sucesso.\")"
   ]
  },
  {
   "cell_type": "markdown",
   "metadata": {},
   "source": [
    "## Lendo dados"
   ]
  },
  {
   "cell_type": "code",
   "execution_count": null,
   "metadata": {},
   "outputs": [],
   "source": [
    "# Leitura do arquivo Excel para extrair os IDs dos contratos\n",
    "caminho_arquivo = r\"C:\\Users\\Weslley\\Downloads\\dados_os_filial18.xlsx\"\n",
    "df = pd.read_excel(caminho_arquivo)\n",
    "df = df.astype(str)\n",
    "df"
   ]
  },
  {
   "cell_type": "markdown",
   "metadata": {},
   "source": [
    "# Definindo Variáveis Necessárias "
   ]
  },
  {
   "cell_type": "code",
   "execution_count": null,
   "metadata": {},
   "outputs": [],
   "source": [
    "# Configurações fixas\n",
    "token_api = os.getenv('TOKEN_API_IXC_VELOO_TESTE')\n",
    "host = os.getenv('HOST_IXC_VELOO_TESTE')\n",
    "url = f\"https://{host}/webservice/v1/su_oss_chamado_fechar\"\n",
    "token = f\"{token_api}\".encode('utf-8')"
   ]
  },
  {
   "cell_type": "markdown",
   "metadata": {},
   "source": [
    "## API de inserção"
   ]
  },
  {
   "cell_type": "code",
   "execution_count": null,
   "metadata": {},
   "outputs": [],
   "source": [
    "headers = {\n",
    "    'Authorization': 'Basic {}'.format(base64.b64encode(token).decode('utf-8')),\n",
    "    'Content-Type': 'application/json'\n",
    "}\n",
    "\n",
    "# Função para fechar um chamado\n",
    "def fechar_chamado(id_chamado):\n",
    "    payload = {\n",
    "        \"id_chamado\": str(id_chamado),\n",
    "        \"data_inicio\": \"2024-10-15\", # Substitua pela data\n",
    "        \"data_final\": \"2024-10-15\", # Substitua pela data\n",
    "        \"mensagem\": \"Chamado fechado automaticamente. - VIA API\",\n",
    "        \"id_tecnico\": \"2\",  # Substitua pelo ID do técnico\n",
    "        \"id_su_diagnostico\": \"71\",\n",
    "        \"status\": \"F\"\n",
    "    }\n",
    "\n",
    "    try:\n",
    "        response = requests.post(url, data=json.dumps(payload), headers=headers)\n",
    "        if response.status_code in [200, 201]:\n",
    "            print(f\"Chamado {id_chamado} fechado com sucesso.\")\n",
    "            print(response.content)\n",
    "        else:\n",
    "            print(f\"Erro ao fechar chamado {id_chamado}: {response.text}\")\n",
    "    except Exception as e:\n",
    "        print(f\"Erro ao fechar chamado {id_chamado}: {str(e)}\")\n"
   ]
  },
  {
   "cell_type": "markdown",
   "metadata": {},
   "source": [
    "## Chamada da função para teste"
   ]
  },
  {
   "cell_type": "code",
   "execution_count": null,
   "metadata": {},
   "outputs": [],
   "source": [
    "fechar_chamado(1708888)"
   ]
  },
  {
   "cell_type": "markdown",
   "metadata": {},
   "source": [
    "## Faz iteração sobre a lista"
   ]
  },
  {
   "cell_type": "code",
   "execution_count": null,
   "metadata": {},
   "outputs": [],
   "source": [
    "# Iterar sobre o DataFrame e fechar os chamados\n",
    "for id_chamado in df['id_chamado']:  # Certifique-se de que a coluna tenha o nome correto\n",
    "    fechar_chamado(id_chamado)"
   ]
  }
 ],
 "metadata": {
  "kernelspec": {
   "display_name": "Python 3",
   "language": "python",
   "name": "python3"
  },
  "language_info": {
   "codemirror_mode": {
    "name": "ipython",
    "version": 3
   },
   "file_extension": ".py",
   "mimetype": "text/x-python",
   "name": "python",
   "nbconvert_exporter": "python",
   "pygments_lexer": "ipython3",
   "version": "3.12.2"
  }
 },
 "nbformat": 4,
 "nbformat_minor": 2
}
